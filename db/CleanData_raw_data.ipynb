{
 "cells": [
  {
   "cell_type": "code",
   "execution_count": 1,
   "metadata": {},
   "outputs": [],
   "source": [
    "import re\n",
    "import pandas as pd\n",
    "import numpy as np\n",
    "from sqlalchemy import create_engine\n",
    "from sqlalchemy.types import NVARCHAR, Float, DECIMAL\n",
    "\n",
    "raw_data = pd.read_csv(\"raw_data.csv\", low_memory=False)"
   ]
  },
  {
   "cell_type": "markdown",
   "metadata": {},
   "source": [
    "# AE_bankruptcy_list 生成"
   ]
  },
  {
   "cell_type": "code",
   "execution_count": 2,
   "metadata": {},
   "outputs": [],
   "source": [
    "AE_data = pd.read_csv(\"AE_badcompany_pred.csv\")\n",
    "AE_data[\"time_q\"] = AE_data[\"time_q\"].apply(lambda x: x.replace(\"Q4\",\"/12\").replace(\"Q3\",\"/9\").replace(\"Q2\",\"/6\").replace(\"Q1\",\"/3\"))\n",
    "AE_data = AE_data[AE_data.time_q.isin([\"2021/3\",\"2020/12\",\"2020/9\",\"2020/6\",\"2020/3\",\"2019/12\",\"2019/9\",\"2019/6\",\"2019/3\"])]\n",
    "AE_data['datetime'] = pd.to_datetime(AE_data['time_q'], format=\"%Y/%m\")\n",
    "AE_data.sort_values(by=['time_q']).drop_duplicates(subset=['company'], keep='last',inplace=True)"
   ]
  },
  {
   "cell_type": "code",
   "execution_count": 3,
   "metadata": {},
   "outputs": [],
   "source": [
    "all_data_list = raw_data.drop_duplicates(subset=['company'], keep='last')\n",
    "AE_data=AE_data.merge(all_data_list[[\"company\",\"abbr\",\"TSE_industry_new\"]],how=\"left\",on=\"company\")\n",
    "AE_data = AE_data[AE_data[\"company\"].str.match(\"^(\\d{4})$\")==True]\n",
    "AE_data[\"TSE_industry_new\"] = AE_data[\"TSE_industry_new\"].apply(lambda x: re.sub(\"[0-9a-zA-Z]\",\"\",x))\n",
    "AE_data=AE_data[['company','abbr','TSE_industry_new']]"
   ]
  },
  {
   "cell_type": "code",
   "execution_count": 4,
   "metadata": {
    "scrolled": true
   },
   "outputs": [],
   "source": [
    "# sql 大小寫不分 => 欄位名稱全部轉小寫\n",
    "# AE_data.columns = [x.lower() for x in AE_data.columns]\n",
    "dtypedict = dict()\n",
    "for col, dtype in AE_data.dtypes.iteritems():\n",
    "    dtypedict[col] = DECIMAL(20,10) if str(dtype)==\"float64\" or str(dtype)==\"int64\" else NVARCHAR(length=50)\n",
    "\n",
    "engine = create_engine(\"mysql://{0}:{1}@{2}:{3}/{4}?charset=utf8\".format(\"root\", \"0936615983\", \"127.0.0.1\", \"3306\", \"finance\"))\n",
    "con = engine.connect()\n",
    "AE_data.to_sql(name='ae_bankruptcy_list', con=con, if_exists='replace', index=False, dtype=dtypedict)"
   ]
  },
  {
   "cell_type": "code",
   "execution_count": 10,
   "metadata": {},
   "outputs": [
    {
     "data": {
      "text/plain": [
       "['1104',\n",
       " '1201',\n",
       " '1201',\n",
       " '1210',\n",
       " '1225',\n",
       " '1236',\n",
       " '1258',\n",
       " '1316',\n",
       " '1326',\n",
       " '1341',\n",
       " '1416',\n",
       " '1417',\n",
       " '1440',\n",
       " '1446',\n",
       " '1452',\n",
       " '1452',\n",
       " '1471',\n",
       " '1507',\n",
       " '1529',\n",
       " '1560',\n",
       " '1592',\n",
       " '1734',\n",
       " '1735',\n",
       " '1781',\n",
       " '1810',\n",
       " '2012',\n",
       " '2013',\n",
       " '2014',\n",
       " '2020',\n",
       " '2025',\n",
       " '2032',\n",
       " '2059',\n",
       " '2066',\n",
       " '2325',\n",
       " '2327',\n",
       " '2332',\n",
       " '2349',\n",
       " '2358',\n",
       " '2368',\n",
       " '2390',\n",
       " '2404',\n",
       " '2414',\n",
       " '2419',\n",
       " '2433',\n",
       " '2434',\n",
       " '2434',\n",
       " '2439',\n",
       " '2456',\n",
       " '2461',\n",
       " '2478',\n",
       " '2480',\n",
       " '2484',\n",
       " '2493',\n",
       " '2496',\n",
       " '2535',\n",
       " '2542',\n",
       " '2546',\n",
       " '2605',\n",
       " '2607',\n",
       " '2607',\n",
       " '2608',\n",
       " '2613',\n",
       " '2745',\n",
       " '2754',\n",
       " '2756',\n",
       " '2905',\n",
       " '2906',\n",
       " '2926',\n",
       " '3010',\n",
       " '3019',\n",
       " '3029',\n",
       " '3046',\n",
       " '3049',\n",
       " '3058',\n",
       " '3105',\n",
       " '3105',\n",
       " '3114',\n",
       " '3122',\n",
       " '3131',\n",
       " '3163',\n",
       " '3217',\n",
       " '3227',\n",
       " '3230',\n",
       " '3260',\n",
       " '3266',\n",
       " '3297',\n",
       " '3303',\n",
       " '3312',\n",
       " '3362',\n",
       " '3390',\n",
       " '3511',\n",
       " '3518',\n",
       " '3521',\n",
       " '3523',\n",
       " '3530',\n",
       " '3591',\n",
       " '3592',\n",
       " '3632',\n",
       " '3685',\n",
       " '3705',\n",
       " '3712',\n",
       " '4105',\n",
       " '4116',\n",
       " '4139',\n",
       " '4147',\n",
       " '4150',\n",
       " '4160',\n",
       " '4168',\n",
       " '4173',\n",
       " '4188',\n",
       " '4190',\n",
       " '4413',\n",
       " '4420',\n",
       " '4438',\n",
       " '4503',\n",
       " '4528',\n",
       " '4530',\n",
       " '4536',\n",
       " '4545',\n",
       " '4563',\n",
       " '4573',\n",
       " '4702',\n",
       " '4711',\n",
       " '4714',\n",
       " '4735',\n",
       " '4736',\n",
       " '4737',\n",
       " '4752',\n",
       " '4765',\n",
       " '4931',\n",
       " '4946',\n",
       " '4947',\n",
       " '4968',\n",
       " '4974',\n",
       " '5011',\n",
       " '5234',\n",
       " '5264',\n",
       " '5269',\n",
       " '5285',\n",
       " '5353',\n",
       " '5353',\n",
       " '5455',\n",
       " '5490',\n",
       " '5516',\n",
       " '5533',\n",
       " '5538',\n",
       " '5607',\n",
       " '5609',\n",
       " '5871',\n",
       " '5902',\n",
       " '6103',\n",
       " '6126',\n",
       " '6151',\n",
       " '6191',\n",
       " '6207',\n",
       " '6212',\n",
       " '6217',\n",
       " '6220',\n",
       " '6228',\n",
       " '6233',\n",
       " '6241',\n",
       " '6245',\n",
       " '6245',\n",
       " '6270',\n",
       " '6275',\n",
       " '6279',\n",
       " '6281',\n",
       " '6283',\n",
       " '6287',\n",
       " '6423',\n",
       " '6443',\n",
       " '6477',\n",
       " '6488',\n",
       " '6538',\n",
       " '6582',\n",
       " '6588',\n",
       " '6590',\n",
       " '6591',\n",
       " '6596',\n",
       " '6603',\n",
       " '6606',\n",
       " '6613',\n",
       " '6624',\n",
       " '6642',\n",
       " '6677',\n",
       " '6683',\n",
       " '6684',\n",
       " '6706',\n",
       " '6715',\n",
       " '6737',\n",
       " '6775',\n",
       " '6817',\n",
       " '8032',\n",
       " '8033',\n",
       " '8039',\n",
       " '8041',\n",
       " '8068',\n",
       " '8074',\n",
       " '8086',\n",
       " '8104',\n",
       " '8201',\n",
       " '8215',\n",
       " '8277',\n",
       " '8289',\n",
       " '8367',\n",
       " '8390',\n",
       " '8420',\n",
       " '8442',\n",
       " '8446',\n",
       " '8450',\n",
       " '8467',\n",
       " '8467',\n",
       " '8488',\n",
       " '8495',\n",
       " '8499',\n",
       " '8923',\n",
       " '8928',\n",
       " '8929',\n",
       " '8933',\n",
       " '9908',\n",
       " '9914']"
      ]
     },
     "execution_count": 10,
     "metadata": {},
     "output_type": "execute_result"
    }
   ],
   "source": [
    "AE_data['company'].tolist()"
   ]
  },
  {
   "cell_type": "markdown",
   "metadata": {},
   "source": [
    "# stock_list table生成"
   ]
  },
  {
   "cell_type": "code",
   "execution_count": 5,
   "metadata": {},
   "outputs": [
    {
     "name": "stderr",
     "output_type": "stream",
     "text": [
      "<ipython-input-5-227f05c27b83>:5: SettingWithCopyWarning: \n",
      "A value is trying to be set on a copy of a slice from a DataFrame.\n",
      "Try using .loc[row_indexer,col_indexer] = value instead\n",
      "\n",
      "See the caveats in the documentation: https://pandas.pydata.org/pandas-docs/stable/user_guide/indexing.html#returning-a-view-versus-a-copy\n",
      "  company_data[\"time_q\"] = company_data[\"time_q\"].apply(lambda x: x.replace(\"Q4\",\"/12\").replace(\"Q3\",\"/9\").replace(\"Q2\",\"/6\").replace(\"Q1\",\"/3\"))\n"
     ]
    }
   ],
   "source": [
    "# raw_data = pd.read_csv(\"raw_data.csv\")\n",
    "# 找出公司股票\n",
    "raw_data.company = raw_data.company.astype(\"str\")\n",
    "company_data = raw_data[raw_data[\"company\"].str.match(\"^(\\d{4})$\")==True]\n",
    "company_data[\"time_q\"] = company_data[\"time_q\"].apply(lambda x: x.replace(\"Q4\",\"/12\").replace(\"Q3\",\"/9\").replace(\"Q2\",\"/6\").replace(\"Q1\",\"/3\"))\n",
    "# 篩選需要欄位\n",
    "company_data = company_data[company_data.time_q.isin([\"2021/3\",\"2020/12\",\"2020/9\",\"2020/6\",\"2020/3\",\"2019/12\",\"2019/9\",\"2019/6\",\"2019/3\"])]\n",
    "rf_std_features = [\"Retained_earnings_assets\",\"negative_two_years\",\"earning_before_tax_margin\",\"Income_Before_Tax_and_Interests_assets\",\"Operating_margin\",\"Debt_Equity_Ratio\",\"Net_Asset_Value_per_Share_F\",\"ration_of_interest_expense\",\"l4\",\"i69\",\"net_income_change_rate\",\"l3\",\"l17\",\"Interest_Coverage_Ratio\",\"current_liab_current_assets\",\"debt_ratio\"]\n",
    "other_features = [\"company\",\"time_q\",\"abbr\",\"TSE_industry_new\"]\n",
    "all_features = rf_std_features + other_features\n",
    "company_data = company_data[all_features]"
   ]
  },
  {
   "cell_type": "code",
   "execution_count": 6,
   "metadata": {},
   "outputs": [],
   "source": [
    "company_data[\"TSE_industry_new\"].fillna(\"未分類\",inplace=True)\n",
    "company_data[\"TSE_industry_new\"] = company_data[\"TSE_industry_new\"].apply(lambda x: re.sub(\"[0-9a-zA-Z]\",\"\",x))\n",
    "unique_company_data = company_data[[\"TSE_industry_new\", \"company\", \"abbr\"]].drop_duplicates()\n",
    "unique_company_data = unique_company_data[~unique_company_data['company'].isin(AE_data['company'].tolist())]"
   ]
  },
  {
   "cell_type": "code",
   "execution_count": 7,
   "metadata": {},
   "outputs": [],
   "source": [
    "dtypedict = dict()\n",
    "for col, dtype in unique_company_data.dtypes.iteritems():\n",
    "    dtypedict[col] = DECIMAL(20,10) if str(dtype)==\"float64\" or str(dtype)==\"int64\" else NVARCHAR(length=50)"
   ]
  },
  {
   "cell_type": "code",
   "execution_count": 8,
   "metadata": {},
   "outputs": [],
   "source": [
    "engine = create_engine(\"mysql://{0}:{1}@{2}:{3}/{4}?charset=utf8\".format(\"root\", \"0936615983\", \"127.0.0.1\", \"3306\", \"finance\"))\n",
    "con = engine.connect()\n",
    "unique_company_data.to_sql(name='stock_list', con=con, if_exists='replace', index=False, dtype=dtypedict)"
   ]
  },
  {
   "cell_type": "markdown",
   "metadata": {},
   "source": [
    "# two_year table生成"
   ]
  },
  {
   "cell_type": "code",
   "execution_count": null,
   "metadata": {},
   "outputs": [],
   "source": [
    "raw_data = pd.read_csv(\"raw_data.csv\")\n",
    "# 找出公司股票\n",
    "raw_data.company = raw_data.company.astype(\"str\")\n",
    "company_data = raw_data[raw_data[\"company\"].str.match(\"^(\\d{4})$\")==True]\n",
    "company_data[\"time_q\"] = company_data[\"time_q\"].apply(lambda x: x.replace(\"Q4\",\"/12\").replace(\"Q3\",\"/9\").replace(\"Q2\",\"/6\").replace(\"Q1\",\"/3\"))\n",
    "# 篩選需要欄位\n",
    "rf_std_features = [\"Retained_earnings_assets\",\"negative_two_years\",\"earning_before_tax_margin\",\"Income_Before_Tax_and_Interests_assets\",\"Operating_margin\",\"Debt_Equity_Ratio\",\"Net_Asset_Value_per_Share_F\",\"ration_of_interest_expense\",\"l4\",\"i69\",\"net_income_change_rate\",\"l3\",\"l17\",\"Interest_Coverage_Ratio\",\"current_liab_current_assets\",\"debt_ratio\"]\n",
    "other_features = [\"company\",\"time_q\",\"abbr\",\"TSE_industry_new\"]\n",
    "company_data['datetime'] = pd.to_datetime(company_data['time_q'], format=\"%Y/%m\")\n",
    "\n",
    "all_features = rf_std_features + other_features\n",
    "company_data = company_data[all_features]"
   ]
  },
  {
   "cell_type": "code",
   "execution_count": null,
   "metadata": {},
   "outputs": [],
   "source": [
    "company_data[\"TSE_industry_new\"].fillna(\"未分類\",inplace=True)\n",
    "company_data[\"TSE_industry_new\"] = company_data[\"TSE_industry_new\"].apply(lambda x: re.sub(\"[0-9a-zA-Z]\",\"\",x))"
   ]
  },
  {
   "cell_type": "code",
   "execution_count": null,
   "metadata": {},
   "outputs": [],
   "source": [
    "#篩選年分\n",
    "company_data = company_data[company_data.time_q.isin([\"2021/3\",\"2020/12\",\"2020/9\",\"2020/6\",\"2020/3\",\"2019/12\",\"2019/9\",\"2019/6\",\"2019/3\"])]"
   ]
  },
  {
   "cell_type": "code",
   "execution_count": null,
   "metadata": {},
   "outputs": [],
   "source": [
    "# fill missing value with zero\n",
    "company_data.fillna(0,inplace=True)"
   ]
  },
  {
   "cell_type": "code",
   "execution_count": null,
   "metadata": {},
   "outputs": [],
   "source": [
    "dtypedict = dict()\n",
    "for col, dtype in company_data.dtypes.iteritems():\n",
    "    dtypedict[col] = DECIMAL(20,10) if str(dtype)==\"float64\" or str(dtype)==\"int64\" else NVARCHAR(length=50)"
   ]
  },
  {
   "cell_type": "code",
   "execution_count": null,
   "metadata": {},
   "outputs": [],
   "source": [
    "engine = create_engine(\"mysql://{0}:{1}@{2}:{3}/{4}?charset=utf8\".format(\"root\", \"0936615983\", \"127.0.0.1\", \"3306\", \"finance\"))\n",
    "con = engine.connect()\n",
    "company_data.to_sql(name='two_year', con=con, if_exists='replace', index=False, dtype=dtypedict)"
   ]
  },
  {
   "cell_type": "code",
   "execution_count": null,
   "metadata": {},
   "outputs": [],
   "source": []
  },
  {
   "cell_type": "code",
   "execution_count": null,
   "metadata": {},
   "outputs": [],
   "source": []
  }
 ],
 "metadata": {
  "kernelspec": {
   "display_name": "Python 3",
   "language": "python",
   "name": "python3"
  },
  "language_info": {
   "codemirror_mode": {
    "name": "ipython",
    "version": 3
   },
   "file_extension": ".py",
   "mimetype": "text/x-python",
   "name": "python",
   "nbconvert_exporter": "python",
   "pygments_lexer": "ipython3",
   "version": "3.8.5"
  }
 },
 "nbformat": 4,
 "nbformat_minor": 2
}
